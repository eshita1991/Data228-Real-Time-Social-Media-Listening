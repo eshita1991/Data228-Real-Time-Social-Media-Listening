{
 "cells": [
  {
   "cell_type": "code",
   "execution_count": 11,
   "id": "51d41c90-ae22-4fae-983e-11b2ee22108e",
   "metadata": {},
   "outputs": [],
   "source": []
  },
  {
   "cell_type": "code",
   "execution_count": null,
   "id": "301a71a6-fbed-41f5-84d7-d4cabf1b2830",
   "metadata": {},
   "outputs": [],
   "source": [
    "import os\n",
    "import datetime\n",
    "from kaggle.api.kaggle_api_extended import KaggleApi\n",
    "import zipfile\n",
    "\n",
    "def download_dataset(dataset_path):\n",
    "    # Initialize Kaggle API\n",
    "    api = KaggleApi()\n",
    "    api.authenticate()\n",
    "    \n",
    "    # Define the download path and filename\n",
    "    download_path = './'\n",
    "    zip_file = f'{dataset_path.split(\"/\")[-1]}.zip'\n",
    "\n",
    "    # Download dataset files to the current working directory\n",
    "    api.dataset_download_files(dataset_path, path=download_path, unzip=False)\n",
    "\n",
    "    # Define the CSV filename with today's date extension\n",
    "    today = datetime.datetime.now().strftime('%Y-%m-%d')\n",
    "    csv_filename = f'data_{today}.csv'\n",
    "\n",
    "        # Assume the main file is named 'data.csv' and rename it\n",
    "    os.rename(os.path.join(download_path, 'data.csv'),\n",
    "                  os.path.join(download_path, csv_filename))\n",
    "\n",
    "    print(f'Dataset downloaded and saved as {csv_filename}')\n"
   ]
  },
  {
   "cell_type": "code",
   "execution_count": 12,
   "id": "86f1402f-5d46-4b8d-aac1-4be4655bc3c6",
   "metadata": {},
   "outputs": [
    {
     "name": "stdout",
     "output_type": "stream",
     "text": [
      "Dataset URL: https://www.kaggle.com/datasets/curiel/rtechnology-posts-and-comments\n",
      "Dataset downloaded and saved as data_2024-04-28.csv\n"
     ]
    }
   ],
   "source": [
    "download_dataset('curiel/rtechnology-posts-and-comments')"
   ]
  },
  {
   "cell_type": "code",
   "execution_count": 13,
   "id": "b00f0e2a-eb2a-4a92-878e-9736c04d0f58",
   "metadata": {},
   "outputs": [
    {
     "name": "stdout",
     "output_type": "stream",
     "text": [
      "Uploaded data_2024-04-28.csv to tech_data\\data_2024-04-28.csv\n"
     ]
    }
   ],
   "source": [
    "from google.cloud import storage\n",
    "from google.oauth2 import service_account\n",
    "# Initialize Google Cloud Storage client\n",
    "def upload_to_gcs(bucket_name, blob_prefix, local_directory='./'):\n",
    "    \n",
    "\n",
    "    # Path to your service account key file\n",
    "    service_account_path = 'gc_key.json'\n",
    "\n",
    "    # Create a credentials object from the service account file\n",
    "    credentials = service_account.Credentials.from_service_account_file(service_account_path)\n",
    "\n",
    "    # Use these credentials to initialize a Google Cloud Storage client\n",
    "    storage_client = storage.Client(credentials=credentials)\n",
    "    #storage_client = storage.Client()\n",
    "    bucket = storage_client.bucket(bucket_name)\n",
    "\n",
    "    # Get today's date to define the CSV file\n",
    "    today = datetime.datetime.now().strftime('%Y-%m-%d')\n",
    "    local_file = f'data_{today}.csv'\n",
    "    local_file_path = os.path.join(local_directory, local_file)\n",
    "\n",
    "    # Define the blob (file) path in the bucket\n",
    "    blob_path = os.path.join(blob_prefix, local_file)\n",
    "    blob = bucket.blob(blob_path)\n",
    "\n",
    "    # Upload the file\n",
    "    blob.upload_from_filename(local_file_path)\n",
    "    print(f\"Uploaded {local_file} to {blob_path}\")\n",
    "\n",
    "    # Delete the local file after successful upload\n",
    "    #os.remove(local_file_path)\n",
    "    #print(f\"Deleted local file {local_file_path} after successful upload.\")\n",
    "    \n",
    "\n",
    "# Use the function\n",
    "bucket_name = 'technology_subreddit'\n",
    "blob_prefix = 'tech_data'\n",
    "\n",
    "# Call the function to upload the file\n",
    "upload_to_gcs(bucket_name, blob_prefix)\n"
   ]
  },
  {
   "cell_type": "code",
   "execution_count": null,
   "id": "47fafc8e-5f2a-4e65-96ee-4df8243d6807",
   "metadata": {},
   "outputs": [],
   "source": []
  },
  {
   "cell_type": "code",
   "execution_count": null,
   "id": "f6f0f9a1-93f6-4242-a4fa-6f3046a3a9b6",
   "metadata": {},
   "outputs": [],
   "source": []
  }
 ],
 "metadata": {
  "kernelspec": {
   "display_name": "Python 3 (ipykernel)",
   "language": "python",
   "name": "python3"
  },
  "language_info": {
   "codemirror_mode": {
    "name": "ipython",
    "version": 3
   },
   "file_extension": ".py",
   "mimetype": "text/x-python",
   "name": "python",
   "nbconvert_exporter": "python",
   "pygments_lexer": "ipython3",
   "version": "3.11.7"
  }
 },
 "nbformat": 4,
 "nbformat_minor": 5
}
